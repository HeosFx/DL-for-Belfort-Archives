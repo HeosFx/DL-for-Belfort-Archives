{
 "cells": [
  {
   "cell_type": "markdown",
   "metadata": {},
   "source": [
    "# YOLO model training notebook\n",
    "\n",
    "## Basic method to train a model\n",
    "\n",
    "In this section the model is trained with standard settings.\n",
    "The basic training method automatically runs a finetuning (genetic algorithm) over 10 iterations."
   ]
  },
  {
   "cell_type": "code",
   "execution_count": null,
   "metadata": {},
   "outputs": [],
   "source": [
    "from ultralytics import YOLO\n",
    "\n",
    "# Load a model\n",
    "model = YOLO(\"yolo11n-cls.pt\")  # load a pretrained model (recommended for training)\n",
    "\n",
    "# Train the model\n",
    "results = model.train(\n",
    "    data=\"./dataset_color\",\n",
    "    epochs=100, \n",
    "    imgsz=512,\n",
    "    device='cuda',\n",
    "    name= 'cls-yolo11n-first-test-512-100e',\n",
    "    workers=16,\n",
    "    batch=16,)"
   ]
  },
  {
   "cell_type": "markdown",
   "metadata": {},
   "source": [
    "## Method to train a model using finetuned hyperparameters\n",
    "\n",
    "The hyperparameters that will be used during training are in cfg."
   ]
  },
  {
   "cell_type": "code",
   "execution_count": null,
   "metadata": {},
   "outputs": [],
   "source": [
    "from ultralytics import YOLO\n",
    "\n",
    "# Load a model\n",
    "model = YOLO(\"yolov8n-cls.pt\")  # load a pretrained model (recommended for training)\n",
    "\n",
    "# Train the model\n",
    "results = model.train(\n",
    "    data=\"./dataset_color\", \n",
    "    epochs=50, \n",
    "    imgsz=1024,\n",
    "    cfg=\"runs/classify/tuning_yolo11n_cls_1024px_50e/best_hyperparameters.yaml\",\n",
    "    device='cuda',\n",
    "    name= 'cls-yolo11n-tuned-1024px-50e-bis',\n",
    "    workers=16,\n",
    "    augment=False,\n",
    "    batch=16,)"
   ]
  },
  {
   "cell_type": "code",
   "execution_count": null,
   "metadata": {},
   "outputs": [],
   "source": []
  }
 ],
 "metadata": {
  "kernelspec": {
   "display_name": "yolo_env",
   "language": "python",
   "name": "python3"
  },
  "language_info": {
   "codemirror_mode": {
    "name": "ipython",
    "version": 3
   },
   "file_extension": ".py",
   "mimetype": "text/x-python",
   "name": "python",
   "nbconvert_exporter": "python",
   "pygments_lexer": "ipython3",
   "version": "3.10.16"
  },
  "orig_nbformat": 4
 },
 "nbformat": 4,
 "nbformat_minor": 2
}
